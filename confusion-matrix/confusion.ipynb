{
 "cells": [
  {
   "cell_type": "code",
   "execution_count": 15,
   "source": [
    "from sklearn.metrics import confusion_matrix, balanced_accuracy_score, accuracy_score\n",
    "import matplotlib.pyplot as plt\n",
    "import numpy as np\n",
    "import string\n",
    "import json"
   ],
   "metadata": {
    "collapsed": false,
    "ExecuteTime": {
     "end_time": "2023-12-21T10:25:58.611416963Z",
     "start_time": "2023-12-21T10:25:58.583642405Z"
    }
   },
   "id": "3950519d7aac96ba",
   "outputs": []
  },
  {
   "cell_type": "code",
   "execution_count": 16,
   "source": [
    "with open(\"numeric_phones.json\") as f:\n",
    "    numeric_phones = json.load(f)\n",
    "    \n",
    "mapper = {a: i for i, a in zip(range(32), string.ascii_lowercase + string.ascii_uppercase)}"
   ],
   "metadata": {
    "collapsed": false,
    "ExecuteTime": {
     "end_time": "2023-12-21T10:25:58.637916908Z",
     "start_time": "2023-12-21T10:25:58.605189524Z"
    }
   },
   "id": "e4ccce2457329dc3",
   "outputs": []
  },
  {
   "cell_type": "code",
   "execution_count": 17,
   "source": [
    "def translator(character):\n",
    "    character = character.replace(\" ; \", \"\").replace(\" \", \"\").replace(\"<eps>\", \"\")\n",
    "    index = int(character)\n",
    "    \n",
    "    if index == 0:\n",
    "        return \"silence\"\n",
    "    \n",
    "    for phone, i in numeric_phones.items():\n",
    "        if i == index:\n",
    "            return phone        "
   ],
   "metadata": {
    "collapsed": false,
    "ExecuteTime": {
     "end_time": "2023-12-21T10:25:58.664736723Z",
     "start_time": "2023-12-21T10:25:58.612773926Z"
    }
   },
   "id": "2ff8258da14c612d",
   "outputs": []
  },
  {
   "cell_type": "code",
   "execution_count": 18,
   "source": [
    "with open(\"bref/cer_test_15_epochs.txt\") as f:\n",
    "    lines = [line.replace(\"\\n\", \"\") for line in f.readlines()]"
   ],
   "metadata": {
    "collapsed": false,
    "ExecuteTime": {
     "end_time": "2023-12-21T10:25:58.682017125Z",
     "start_time": "2023-12-21T10:25:58.641349735Z"
    }
   },
   "id": "5a4fc6f6ba73ad49",
   "outputs": []
  },
  {
   "cell_type": "code",
   "execution_count": 19,
   "source": [
    "true_labels = np.array([translator(value) for value in lines[13::5]])\n",
    "predicted_labels = np.array([translator(value) for value in lines[15::5]])\n",
    "\n",
    "# Remove silences\n",
    "silence_indexes = np.where(true_labels == \"silence\")[0]\n",
    "true_labels_no_sil = np.delete(true_labels, silence_indexes)\n",
    "predicted_labels_no_sil = np.delete(predicted_labels, silence_indexes)\n",
    "\n",
    "with open(\"phones.json\") as f:\n",
    "    phones = json.load(f)\n",
    "\n",
    "# Replacing the silence predicted by a random different phone\n",
    "for i, ph in enumerate(predicted_labels_no_sil):\n",
    "    if ph == \"silence\":\n",
    "        for sub_ph in [\"aa\", \"bb\"]:\n",
    "            if sub_ph != true_labels_no_sil[i]:\n",
    "                predicted_labels_no_sil[i] = sub_ph\n",
    "                break\n",
    "\n",
    "print(\"Accuracy:\", accuracy_score([phones[a] for a in true_labels_no_sil], [phones[a] for a in predicted_labels_no_sil]))\n",
    "print(\"Balanced accuracy:\", balanced_accuracy_score([phones[a] for a in true_labels_no_sil], [phones[a] for a in predicted_labels_no_sil]))"
   ],
   "metadata": {
    "collapsed": false,
    "ExecuteTime": {
     "end_time": "2023-12-21T10:25:59.043559161Z",
     "start_time": "2023-12-21T10:25:58.693928284Z"
    }
   },
   "id": "33616463d4e84319",
   "outputs": []
  },
  {
   "cell_type": "code",
   "execution_count": 20,
   "source": [
    "def compute_confusion_matrix(true, predicted):\n",
    "    label_names_existing = list(set(true))\n",
    "    label_names_organized = ['silence', 'aa', 'ai', 'ei', 'ee', 'au', 'ou', 'uu', 'ii', 'an', 'on', 'un', 'ww', 'uy',\n",
    "                             'yy', 'll', 'rr', 'nn', 'mm', 'gn', 'pp', 'tt', 'kk', 'bb', 'dd', 'gg', 'ff', 'ss', 'ch',\n",
    "                             'vv', 'zz', 'jj']\n",
    "    \n",
    "    label_names_existing = list(set([phones[a] for a in true]))\n",
    "    label_names_organized = [\"sil\", \"a\", \"Ê\", \"Û\", \"Ô\", \"u\", \"y\", \"i\", \"ã\", \"ɔ̃\", \"µ\", \"w\", \"ɥ\", \"j\", \"l\", \"ʁ\", \"n\", \"m\", \"ɲ\", \"p\", \"t\", \"k\", \"b\", \"d\", \"g\", \"f\", \"s\", \"ʃ\", \"v\", \"z\", \"ʒ\"]\n",
    "    \n",
    "    cm = confusion_matrix([phones[a] for a in true], [phones[a] for a in predicted], normalize=\"true\")\n",
    "    \n",
    "    # Use the specified labels order to link current cm layout to organized layout\n",
    "    new_order = [label_names_existing.index(label) for label in label_names_organized if label in label_names_existing]\n",
    "    cm = cm[:, new_order][new_order, :]\n",
    "\n",
    "    # Adding lines for phonemes that were not present in the input audio\n",
    "    for i in range(len(label_names_organized)):\n",
    "        if label_names_organized[i] not in label_names_existing:\n",
    "            cm = np.insert(cm, i, 0.0, axis=1)\n",
    "            cm = np.insert(cm, i, 0.0, axis=0)\n",
    "\n",
    "    # Set 0 lines to NaN\n",
    "    for i in range(cm.shape[0]):\n",
    "        if np.count_nonzero(cm[i, :]) == 0:\n",
    "            cm[i, :] = np.nan\n",
    "            \n",
    "    return cm"
   ],
   "metadata": {
    "collapsed": false,
    "ExecuteTime": {
     "end_time": "2023-12-21T10:25:59.044564590Z",
     "start_time": "2023-12-21T10:25:59.039555234Z"
    }
   },
   "id": "fcf346078843709c",
   "outputs": []
  },
  {
   "cell_type": "code",
   "execution_count": 21,
   "source": [
    "import itertools\n",
    "\n",
    "\n",
    "def plot_confusion_matrix(cm, savefig=True, file='', cmap=plt.cm.pink_r):\n",
    "    label_names_organized_phonetic = [\"sil\", \"a\", \"Ê\", \"Û\", \"Ô\", \"u\", \"y\", \"i\", \"ã\", \"ɔ̃\", \"µ\", \"w\", \"ɥ\", \"j\", \"l\", \"ʁ\", \"n\", \"m\", \"ɲ\", \"p\", \"t\", \"k\", \"b\", \"d\", \"g\", \"f\", \"s\", \"ʃ\", \"v\", \"z\", \"ʒ\"]\n",
    "    \n",
    "    fig, ax = plt.subplots(dpi=125)\n",
    "    fig.set_size_inches(15, 12, forward=True)\n",
    "    \n",
    "    rect = plt.Rectangle((-0.5, -0.5), cm.shape[1], cm.shape[0], linewidth=2, edgecolor='black', facecolor='none')\n",
    "    ax.add_patch(rect)\n",
    "\n",
    "    im = ax.imshow(cm, interpolation='nearest', cmap=cmap, vmin=0, vmax=1)\n",
    "    ax.set_title(file, fontsize=20)\n",
    "    plt.colorbar(im, ax=ax)\n",
    "\n",
    "    tick_marks = np.arange(len(label_names_organized_phonetic))\n",
    "    ax.set_xticks(tick_marks)\n",
    "    ax.set_yticks(tick_marks)\n",
    "    ax.set_xticklabels([f\"/{a}/\" for a in label_names_organized_phonetic], fontsize=14)\n",
    "    ax.set_yticklabels([f\"/{a}/\" for a in label_names_organized_phonetic], fontsize=14)\n",
    "    \n",
    "    ax.grid(False)\n",
    "\n",
    "    for i, j in itertools.product(range(cm.shape[0]), range(cm.shape[1])):\n",
    "        color = \"white\" if cm[i, j] > 0.6 else \"black\"\n",
    "        ax.text(j, i, f'{cm[i, j] * 100:.1f}',\n",
    "                ha=\"center\", va=\"center\", color=color, fontsize=10)\n",
    "\n",
    "    plt.tight_layout(pad=3)\n",
    "    ax.set_ylabel('True labels', fontsize=18)\n",
    "    ax.set_xlabel('Predicted labels', fontsize=18)\n",
    "\n",
    "    if savefig:\n",
    "        plt.savefig(f\"{file}_confusion_matrix.png\", bbox_inches='tight', pad_inches=0.1)\n",
    "        print(f\"Confusion matrix was saved at confusion_matrix.png\")"
   ],
   "metadata": {
    "collapsed": false,
    "ExecuteTime": {
     "end_time": "2023-12-21T10:25:59.055616404Z",
     "start_time": "2023-12-21T10:25:59.044231473Z"
    }
   },
   "id": "37d4bcdef5383084",
   "outputs": []
  },
  {
   "cell_type": "code",
   "execution_count": 22,
   "source": [
    "plot_confusion_matrix(compute_confusion_matrix(true_labels, predicted_labels), file=\"BREF-Int\")"
   ],
   "metadata": {
    "collapsed": false,
    "ExecuteTime": {
     "end_time": "2023-12-21T10:26:01.428939681Z",
     "start_time": "2023-12-21T10:25:59.051859333Z"
    }
   },
   "id": "5d0edbbf4e7e923",
   "outputs": []
  },
  {
   "cell_type": "markdown",
   "source": [
    "# Getting balanced accuracies for layers analysis"
   ],
   "metadata": {
    "collapsed": false
   },
   "id": "6ade61a442847f8b"
  },
  {
   "cell_type": "code",
   "source": [
    "import json\n",
    "import matplotlib.pyplot as plt"
   ],
   "metadata": {
    "collapsed": false,
    "ExecuteTime": {
     "end_time": "2024-01-25T09:55:05.208887416Z",
     "start_time": "2024-01-25T09:55:05.166251808Z"
    }
   },
   "id": "acedc6d0b2ff5591",
   "execution_count": 11,
   "outputs": []
  },
  {
   "cell_type": "code",
   "source": [
    "accuracies_bref = []\n",
    "accuracies_dap = []\n",
    "accuracies_lec = []\n",
    "\n",
    "for i in range(1, 11):\n",
    "    with open(f\"bref/layers/{i}/output_test_accuracies.json\") as f:\n",
    "        accuracies_bref.append(json.load(f)[\"balanced_accuracy\"])\n",
    "        \n",
    "    with open(f\"c2si/layers/{i}/output_hc_dap_accuracies.json\") as f:\n",
    "        accuracies_dap.append(json.load(f)[\"balanced_accuracy\"])\n",
    "        \n",
    "    with open(f\"c2si/layers/{i}/output_hc_lec_accuracies.json\") as f:\n",
    "        accuracies_lec.append(json.load(f)[\"balanced_accuracy\"])"
   ],
   "metadata": {
    "collapsed": false,
    "ExecuteTime": {
     "end_time": "2024-01-25T09:55:58.585292074Z",
     "start_time": "2024-01-25T09:55:58.530677548Z"
    }
   },
   "id": "df5c591f95c5cfbb",
   "execution_count": 14,
   "outputs": []
  },
  {
   "cell_type": "code",
   "source": [
    "plt.figure(figsize=(15, 9))\n",
    "\n",
    "plt.title(\"Validation Phoneme Error Rate\")\n",
    "plt.xlabel(\"Epochs\")\n",
    "plt.ylabel(\"Phoneme Error Rate (%)\")\n",
    "\n",
    "for d, label in zip([accuracies_bref, accuracies_dap, accuracies_lec], ['accuracies_bref', 'accuracies_dap', 'accuracies_lec']):\n",
    "    plt.plot(range(len(d)), d, label=label)\n",
    "    \n",
    "plt.legend()"
   ],
   "metadata": {
    "collapsed": false,
    "ExecuteTime": {
     "end_time": "2024-01-25T09:55:59.754551845Z",
     "start_time": "2024-01-25T09:55:59.585985821Z"
    }
   },
   "id": "2a6a138eb2254cf0",
   "execution_count": 15,
   "outputs": []
  }
 ],
 "metadata": {
  "kernelspec": {
   "display_name": "Python 3",
   "language": "python",
   "name": "python3"
  },
  "language_info": {
   "codemirror_mode": {
    "name": "ipython",
    "version": 2
   },
   "file_extension": ".py",
   "mimetype": "text/x-python",
   "name": "python",
   "nbconvert_exporter": "python",
   "pygments_lexer": "ipython2",
   "version": "2.7.6"
  }
 },
 "nbformat": 4,
 "nbformat_minor": 5
}
