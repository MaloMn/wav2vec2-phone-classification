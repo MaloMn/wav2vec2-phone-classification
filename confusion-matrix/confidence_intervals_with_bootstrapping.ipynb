{
 "cells": [
  {
   "cell_type": "code",
   "execution_count": 1,
   "metadata": {
    "colab": {
     "base_uri": "https://localhost:8080/"
    },
    "id": "3gEIJ0m_bAvI",
    "outputId": "b921aa6c-05d4-4556-bb13-82234f2ea7e9",
    "ExecuteTime": {
     "end_time": "2024-02-19T08:07:03.559257691Z",
     "start_time": "2024-02-19T08:07:03.534761999Z"
    }
   },
   "outputs": [],
   "source": [
    "import json"
   ]
  },
  {
   "cell_type": "code",
   "outputs": [],
   "source": [
    "with open(\"confidences.json\") as f:\n",
    "    conf = json.load(f)"
   ],
   "metadata": {
    "collapsed": false,
    "ExecuteTime": {
     "end_time": "2024-02-19T08:07:03.585585399Z",
     "start_time": "2024-02-19T08:07:03.549788308Z"
    }
   },
   "execution_count": 2
  },
  {
   "cell_type": "code",
   "outputs": [
    {
     "name": "stdout",
     "output_type": "stream",
     "text": [
      "unfrozen-cp-3k-large\n",
      "\t→ bref-int: 88.2土0.21  \n",
      "\t→ c2si-dap: 73.93土0.36  \n",
      "\t→ c2si-lec: 72.47土0.52  \n",
      "frozen\n",
      "\t→ bref-int: 83.5土0.24  \n",
      "\t→ c2si-dap: 66.88土0.37  \n",
      "\t→ c2si-lec: 66.87土0.56  \n",
      "unfrozen\n",
      "\t→ bref-int: 87.59土0.23  \n",
      "\t→ c2si-dap: 70.57土0.36  \n",
      "\t→ c2si-lec: 70.2土0.55  \n",
      "unfrozen-14k-light\n",
      "\t→ bref-int: 81.78土0.24  \n",
      "\t→ c2si-dap: 57.31土0.42  \n",
      "\t→ c2si-lec: 56.96土0.59  \n",
      "unfrozen-3k-large\n",
      "\t→ bref-int: 88.31土0.22  \n",
      "\t→ c2si-dap: 71.25土0.35  \n",
      "\t→ c2si-lec: 70.62土0.56  \n",
      "unfrozen-3k-base\n",
      "\t→ bref-int: 84.5土0.24  \n",
      "\t→ c2si-dap: 50.05土0.39  \n",
      "\t→ c2si-lec: 48.05土0.59  \n",
      "unfrozen-cp-14k-large\n",
      "\t→ bref-int: 87.88土0.22  \n",
      "\t→ c2si-dap: 72.78土0.36  \n",
      "\t→ c2si-lec: 71.66土0.56  \n",
      "unfrozen-cp-14k-light\n",
      "\t→ bref-int: 82.96土0.25  \n",
      "\t→ c2si-dap: 63.21土0.39  \n",
      "\t→ c2si-lec: 63.04土0.61  \n",
      "unfrozen-cp-3k-base\n",
      "\t→ bref-int: 84.44土0.24  \n",
      "\t→ c2si-dap: 62.27土0.41  \n",
      "\t→ c2si-lec: 61.32土0.59  \n",
      "unfrozen-cp-14k-large-accents\n",
      "\t→ bref-int: 87.58土0.21  \n",
      "\t→ c2si-dap: 73.34土0.35  \n",
      "\t→ c2si-lec: 72.07土0.53  \n",
      "unfrozen-cp-14k-light-accents\n",
      "\t→ bref-int: 82.88土0.26  \n",
      "\t→ c2si-dap: 64.07土0.42  \n",
      "\t→ c2si-lec: 63.72土0.59  \n",
      "unfrozen-cp-3k-large-accents\n",
      "\t→ bref-int: 88.28土0.21  \n",
      "\t→ c2si-dap: 73.88土0.36  \n",
      "\t→ c2si-lec: 72.64土0.55  \n",
      "unfrozen-cp-3k-base-accents\n",
      "\t→ bref-int: 84.94土0.23  \n",
      "\t→ c2si-dap: 62.45土0.4  \n",
      "\t→ c2si-lec: 61.42土0.59  \n"
     ]
    }
   ],
   "source": [
    "for folder, datasets in conf.items():\n",
    "    print(folder)\n",
    "    \n",
    "    for dataset, values in datasets.items():\n",
    "        value = round(values['value'] * 100, 2)\n",
    "        print(f\"\\t→ {dataset}: {value}土{round(values['max'] * 100-values['value'] * 100, 2)}  \") "
   ],
   "metadata": {
    "collapsed": false,
    "ExecuteTime": {
     "end_time": "2024-02-19T08:07:03.590214607Z",
     "start_time": "2024-02-19T08:07:03.585466303Z"
    }
   },
   "execution_count": 3
  },
  {
   "cell_type": "code",
   "outputs": [],
   "source": [],
   "metadata": {
    "collapsed": false
   }
  }
 ],
 "metadata": {
  "colab": {
   "collapsed_sections": [],
   "provenance": []
  },
  "kernelspec": {
   "display_name": "Python 3 (ipykernel)",
   "language": "python",
   "name": "python3"
  },
  "language_info": {
   "codemirror_mode": {
    "name": "ipython",
    "version": 3
   },
   "file_extension": ".py",
   "mimetype": "text/x-python",
   "name": "python",
   "nbconvert_exporter": "python",
   "pygments_lexer": "ipython3",
   "version": "3.9.13"
  }
 },
 "nbformat": 4,
 "nbformat_minor": 1
}
