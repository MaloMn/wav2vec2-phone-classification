{
 "cells": [
  {
   "cell_type": "code",
   "execution_count": 84,
   "id": "initial_id",
   "metadata": {
    "collapsed": true,
    "ExecuteTime": {
     "end_time": "2024-02-09T14:39:22.233583314Z",
     "start_time": "2024-02-09T14:39:22.189865495Z"
    }
   },
   "source": [
    "import json\n",
    "import numpy as np\n",
    "import matplotlib.pyplot as plt\n",
    "import itertools"
   ],
   "outputs": []
  },
  {
   "cell_type": "code",
   "source": [
    "with open(\"sondes.json\") as f:\n",
    "    sondes = json.load(f)\n",
    "    \n",
    "with open(\"malo.json\") as f:\n",
    "    malo = json.load(f)"
   ],
   "metadata": {
    "collapsed": false,
    "ExecuteTime": {
     "end_time": "2024-02-09T14:26:08.567205474Z",
     "start_time": "2024-02-09T14:26:08.538371394Z"
    }
   },
   "id": "bf5745307fd8176a",
   "execution_count": 62,
   "outputs": []
  },
  {
   "cell_type": "code",
   "source": [
    "KEY = \"c2si-oral\""
   ],
   "metadata": {
    "collapsed": false,
    "ExecuteTime": {
     "end_time": "2024-02-09T14:26:08.588081430Z",
     "start_time": "2024-02-09T14:26:08.567370255Z"
    }
   },
   "id": "ca90c2c84913386e",
   "execution_count": 63,
   "outputs": []
  },
  {
   "cell_type": "code",
   "source": [
    "sondes[KEY] = np.array(sondes[KEY])\n",
    "malo[KEY] = np.array(malo[KEY]) * 100"
   ],
   "metadata": {
    "collapsed": false,
    "ExecuteTime": {
     "end_time": "2024-02-09T14:26:08.590529984Z",
     "start_time": "2024-02-09T14:26:08.587953945Z"
    }
   },
   "id": "9ede7a9574d8ce1f",
   "execution_count": 64,
   "outputs": []
  },
  {
   "cell_type": "code",
   "source": [
    "sondes[KEY]"
   ],
   "metadata": {
    "collapsed": false,
    "ExecuteTime": {
     "end_time": "2024-02-09T14:26:08.607526400Z",
     "start_time": "2024-02-09T14:26:08.594636965Z"
    }
   },
   "id": "8d5f0eead4a1f177",
   "execution_count": 65,
   "outputs": []
  },
  {
   "cell_type": "code",
   "source": [
    "malo[KEY]"
   ],
   "metadata": {
    "collapsed": false,
    "ExecuteTime": {
     "end_time": "2024-02-09T14:26:08.616418484Z",
     "start_time": "2024-02-09T14:26:08.605410228Z"
    }
   },
   "id": "9e5165506e287555",
   "execution_count": 66,
   "outputs": []
  },
  {
   "cell_type": "code",
   "source": [
    "difference = malo[KEY] - sondes[KEY]\n",
    "maximum = np.maximum(malo[KEY], sondes[KEY])\n",
    "difference"
   ],
   "metadata": {
    "collapsed": false,
    "ExecuteTime": {
     "end_time": "2024-02-09T14:26:28.089441760Z",
     "start_time": "2024-02-09T14:26:28.082250809Z"
    }
   },
   "id": "b278ded7dca49eaf",
   "execution_count": 70,
   "outputs": []
  },
  {
   "cell_type": "code",
   "source": [
    "who_better = difference.copy()\n",
    "mine = []\n",
    "hers = []\n",
    "for i, j in itertools.product(range(maximum.shape[0]), range(maximum.shape[1])):\n",
    "    diff = round(difference[i, j], 1)\n",
    "    if i == j:\n",
    "        if diff == 0.0:\n",
    "            who_better[i, j] = 0\n",
    "        elif diff > 0.0:\n",
    "            who_better[i, j] = 10\n",
    "            mine += [diff]\n",
    "        else:\n",
    "            who_better[i, j] = -10\n",
    "            hers += [diff]\n",
    "    else:\n",
    "        if diff == 0.0:\n",
    "            who_better[i, j] = 0\n",
    "        elif diff > 0.0:\n",
    "            who_better[i, j] = -10\n",
    "            hers += [diff]\n",
    "        else:\n",
    "            who_better[i, j] = 10\n",
    "            mine += [diff]"
   ],
   "metadata": {
    "collapsed": false,
    "ExecuteTime": {
     "end_time": "2024-02-09T14:51:10.645545567Z",
     "start_time": "2024-02-09T14:51:10.602233302Z"
    }
   },
   "id": "23562ba317c9ab6f",
   "execution_count": 91,
   "outputs": []
  },
  {
   "cell_type": "code",
   "source": [
    "def linear_mapping_function(x1, y1, x2, y2):\n",
    "    # Calculate the slope and intercept of the linear equation\n",
    "    slope = (y2 - y1) / (x2 - x1)\n",
    "    intercept = y1 - slope * x1\n",
    "\n",
    "    # Define the linear mapping lambda function\n",
    "    return lambda x: slope * x + intercept\n",
    "\n",
    "\n",
    "def get_sign_text(value, x, y) -> str:\n",
    "    value = round(value, 1)\n",
    "    if value == 0.0:\n",
    "        return \"=\"\n",
    "    \n",
    "    if x == y:\n",
    "        if value > 0.0:\n",
    "            return \"+\"\n",
    "        return \"-\"\n",
    "    else:\n",
    "        if value > 0.0:\n",
    "            return \"-   \"\n",
    "        return \"+\""
   ],
   "metadata": {
    "collapsed": false,
    "ExecuteTime": {
     "end_time": "2024-02-09T14:30:27.219264128Z",
     "start_time": "2024-02-09T14:30:27.212062478Z"
    }
   },
   "id": "bd047665fa23098d",
   "execution_count": 75,
   "outputs": []
  },
  {
   "cell_type": "code",
   "source": [
    "fig, ax = plt.subplots(dpi=125)\n",
    "fig.set_size_inches(15, 12, forward=True)\n",
    "\n",
    "rect = plt.Rectangle((-0.5, -0.5), maximum.shape[1], maximum.shape[0], linewidth=2, edgecolor='black', facecolor='none')\n",
    "ax.add_patch(rect)\n",
    "\n",
    "print(np.min(difference), np.max(difference))\n",
    "im = ax.imshow(who_better, interpolation='nearest', cmap=plt.cm.PiYG, vmin=-30, vmax=30)\n",
    "\n",
    "# labels = [\"p\", \"t\", \"k\", \"b\", \"d\", \"g\", \"f\", \"s\", \"ʃ\", \"v\", \"z\", \"ʒ\"]\n",
    "labels = [\"a\", \"Ê\", \"Û\", \"Ô\", \"u\", \"y\", \"i\", \"ã\", \"ɔ̃\", \"µ\", \"n\", \"m\"]\n",
    "\n",
    "tick_marks = np.arange(len(labels))\n",
    "ax.set_xticks(tick_marks)\n",
    "ax.set_yticks(tick_marks)\n",
    "\n",
    "fontsize = linear_mapping_function(1, 27, 31, 14)(len(labels))\n",
    "ax.set_xticklabels([f\"/{a}/\" for a in labels], fontsize=fontsize, weight='bold')\n",
    "ax.set_yticklabels([f\"/{a}/\" for a in labels], fontsize=fontsize, weight='bold')\n",
    "\n",
    "ax.grid(False)\n",
    "\n",
    "fontsize = linear_mapping_function(1, 23, 31, 10)(len(labels))\n",
    "for i, j in itertools.product(range(maximum.shape[0]), range(maximum.shape[1])):\n",
    "    color = \"black\"  #\"white\" if maximum[i, j] > 60.0 else \"black\"\n",
    "    ax.text(j, i, round(np.abs(difference[i, j]), 1), ha=\"center\", va=\"center\", color=color, fontsize=fontsize, weight='bold')\n",
    "\n",
    "plt.tight_layout(pad=3)\n",
    "ax.set_ylabel('Vérité terrain', fontsize=18, weight='bold')\n",
    "ax.set_xlabel('Labels prédits', fontsize=18, weight='bold')\n",
    "\n",
    "plt.savefig(\"c2si-oral.pdf\", bbox_inches='tight', pad_inches=0.1)"
   ],
   "metadata": {
    "collapsed": false,
    "ExecuteTime": {
     "end_time": "2024-02-09T14:48:02.284115561Z",
     "start_time": "2024-02-09T14:48:01.449612678Z"
    }
   },
   "id": "fbdd5437bfd4b4e6",
   "execution_count": 90,
   "outputs": []
  },
  {
   "cell_type": "code",
   "source": [
    "np.median(np.abs(mine)), np.mean(np.abs(mine)), np.std(np.abs(mine))"
   ],
   "metadata": {
    "collapsed": false,
    "ExecuteTime": {
     "end_time": "2024-02-09T14:53:57.996355561Z",
     "start_time": "2024-02-09T14:53:57.987947497Z"
    }
   },
   "id": "7f66fa07f388950",
   "execution_count": 98,
   "outputs": []
  },
  {
   "cell_type": "code",
   "source": [
    "np.median(np.abs(mine)), np.mean(np.abs(hers)), np.std(np.abs(hers))"
   ],
   "metadata": {
    "collapsed": false,
    "ExecuteTime": {
     "end_time": "2024-02-09T14:53:56.532518317Z",
     "start_time": "2024-02-09T14:53:56.527542742Z"
    }
   },
   "id": "1dfe789b8942120",
   "execution_count": 97,
   "outputs": []
  },
  {
   "cell_type": "code",
   "source": [
    "np.median(difference), np.mean(difference), np.std(difference)"
   ],
   "metadata": {
    "collapsed": false,
    "ExecuteTime": {
     "end_time": "2024-02-09T14:55:01.911835132Z",
     "start_time": "2024-02-09T14:55:01.888544130Z"
    }
   },
   "id": "a4fc3153dd5c446",
   "execution_count": 99,
   "outputs": []
  }
 ],
 "metadata": {
  "kernelspec": {
   "display_name": "Python 3",
   "language": "python",
   "name": "python3"
  },
  "language_info": {
   "codemirror_mode": {
    "name": "ipython",
    "version": 2
   },
   "file_extension": ".py",
   "mimetype": "text/x-python",
   "name": "python",
   "nbconvert_exporter": "python",
   "pygments_lexer": "ipython2",
   "version": "2.7.6"
  }
 },
 "nbformat": 4,
 "nbformat_minor": 5
}
